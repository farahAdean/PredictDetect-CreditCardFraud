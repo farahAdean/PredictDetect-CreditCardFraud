{
  "nbformat": 4,
  "nbformat_minor": 0,
  "metadata": {
    "colab": {
      "name": "CSY3010-AS2-CreditCardFraudPredictionDetection.ipynb",
      "provenance": [],
      "collapsed_sections": []
    },
    "kernelspec": {
      "name": "python3",
      "display_name": "Python 3"
    },
    "language_info": {
      "name": "python"
    },
    "accelerator": "GPU"
  },
  "cells": [
    {
      "cell_type": "code",
      "metadata": {
        "id": "s3S7ew8X4HAl"
      },
      "source": [
        "#get the libraries\n",
        "#REFERENCE: [17], [18], [18]\n",
        "import numpy as nump\n",
        "import pandas as pand \n",
        "import matplotlib.pyplot as pyp\n",
        "import seaborn as sbn\n",
        "import random\n",
        "from collections import Counter\n",
        "from sklearn.model_selection import train_test_split as tts\n",
        "from sklearn.linear_model import LogisticRegression as logReg\n",
        "from sklearn.tree import DecisionTreeClassifier as deTrC\n",
        "from sklearn.ensemble import RandomForestClassifier as ranFoC\n",
        "from sklearn.metrics import accuracy_score, confusion_matrix, precision_score, recall_score, f1_score"
      ],
      "execution_count": 1,
      "outputs": []
    },
    {
      "cell_type": "code",
      "metadata": {
        "colab": {
          "base_uri": "https://localhost:8080/"
        },
        "id": "Zgl9ymdUtzKz",
        "outputId": "80d3129c-702c-4122-b9c4-8a995d8d45a8"
      },
      "source": [
        "#get access to google drive for data set\n",
        "from google.colab import drive as gD\n",
        "gD.mount('/content/drive', force_remount=True) "
      ],
      "execution_count": 2,
      "outputs": [
        {
          "output_type": "stream",
          "text": [
            "Mounted at /content/drive\n"
          ],
          "name": "stdout"
        }
      ]
    },
    {
      "cell_type": "code",
      "metadata": {
        "id": "2d1x4ko9u4ZP"
      },
      "source": [
        "#REFERENCE: [17]\n",
        "#locate the credit card data set\n",
        "ccDts = pand.read_csv(\"/content/drive/MyDrive/creditcard.csv\")"
      ],
      "execution_count": 3,
      "outputs": []
    },
    {
      "cell_type": "code",
      "metadata": {
        "colab": {
          "base_uri": "https://localhost:8080/",
          "height": 414
        },
        "id": "_IKmwf8PvOBc",
        "outputId": "17781a0c-8cdd-409e-993d-e1205fbdaadb"
      },
      "source": [
        "#REFERENCE: [17]\n",
        "#showcase from file 11 records\n",
        "ccDts.head(11)"
      ],
      "execution_count": 4,
      "outputs": [
        {
          "output_type": "execute_result",
          "data": {
            "text/html": [
              "<div>\n",
              "<style scoped>\n",
              "    .dataframe tbody tr th:only-of-type {\n",
              "        vertical-align: middle;\n",
              "    }\n",
              "\n",
              "    .dataframe tbody tr th {\n",
              "        vertical-align: top;\n",
              "    }\n",
              "\n",
              "    .dataframe thead th {\n",
              "        text-align: right;\n",
              "    }\n",
              "</style>\n",
              "<table border=\"1\" class=\"dataframe\">\n",
              "  <thead>\n",
              "    <tr style=\"text-align: right;\">\n",
              "      <th></th>\n",
              "      <th>Time</th>\n",
              "      <th>V1</th>\n",
              "      <th>V2</th>\n",
              "      <th>V3</th>\n",
              "      <th>V4</th>\n",
              "      <th>V5</th>\n",
              "      <th>V6</th>\n",
              "      <th>V7</th>\n",
              "      <th>V8</th>\n",
              "      <th>V9</th>\n",
              "      <th>V10</th>\n",
              "      <th>V11</th>\n",
              "      <th>V12</th>\n",
              "      <th>V13</th>\n",
              "      <th>V14</th>\n",
              "      <th>V15</th>\n",
              "      <th>V16</th>\n",
              "      <th>V17</th>\n",
              "      <th>V18</th>\n",
              "      <th>V19</th>\n",
              "      <th>V20</th>\n",
              "      <th>V21</th>\n",
              "      <th>V22</th>\n",
              "      <th>V23</th>\n",
              "      <th>V24</th>\n",
              "      <th>V25</th>\n",
              "      <th>V26</th>\n",
              "      <th>V27</th>\n",
              "      <th>V28</th>\n",
              "      <th>Amount</th>\n",
              "      <th>Class</th>\n",
              "    </tr>\n",
              "  </thead>\n",
              "  <tbody>\n",
              "    <tr>\n",
              "      <th>0</th>\n",
              "      <td>0.0</td>\n",
              "      <td>-1.359807</td>\n",
              "      <td>-0.072781</td>\n",
              "      <td>2.536347</td>\n",
              "      <td>1.378155</td>\n",
              "      <td>-0.338321</td>\n",
              "      <td>0.462388</td>\n",
              "      <td>0.239599</td>\n",
              "      <td>0.098698</td>\n",
              "      <td>0.363787</td>\n",
              "      <td>0.090794</td>\n",
              "      <td>-0.551600</td>\n",
              "      <td>-0.617801</td>\n",
              "      <td>-0.991390</td>\n",
              "      <td>-0.311169</td>\n",
              "      <td>1.468177</td>\n",
              "      <td>-0.470401</td>\n",
              "      <td>0.207971</td>\n",
              "      <td>0.025791</td>\n",
              "      <td>0.403993</td>\n",
              "      <td>0.251412</td>\n",
              "      <td>-0.018307</td>\n",
              "      <td>0.277838</td>\n",
              "      <td>-0.110474</td>\n",
              "      <td>0.066928</td>\n",
              "      <td>0.128539</td>\n",
              "      <td>-0.189115</td>\n",
              "      <td>0.133558</td>\n",
              "      <td>-0.021053</td>\n",
              "      <td>149.62</td>\n",
              "      <td>0</td>\n",
              "    </tr>\n",
              "    <tr>\n",
              "      <th>1</th>\n",
              "      <td>0.0</td>\n",
              "      <td>1.191857</td>\n",
              "      <td>0.266151</td>\n",
              "      <td>0.166480</td>\n",
              "      <td>0.448154</td>\n",
              "      <td>0.060018</td>\n",
              "      <td>-0.082361</td>\n",
              "      <td>-0.078803</td>\n",
              "      <td>0.085102</td>\n",
              "      <td>-0.255425</td>\n",
              "      <td>-0.166974</td>\n",
              "      <td>1.612727</td>\n",
              "      <td>1.065235</td>\n",
              "      <td>0.489095</td>\n",
              "      <td>-0.143772</td>\n",
              "      <td>0.635558</td>\n",
              "      <td>0.463917</td>\n",
              "      <td>-0.114805</td>\n",
              "      <td>-0.183361</td>\n",
              "      <td>-0.145783</td>\n",
              "      <td>-0.069083</td>\n",
              "      <td>-0.225775</td>\n",
              "      <td>-0.638672</td>\n",
              "      <td>0.101288</td>\n",
              "      <td>-0.339846</td>\n",
              "      <td>0.167170</td>\n",
              "      <td>0.125895</td>\n",
              "      <td>-0.008983</td>\n",
              "      <td>0.014724</td>\n",
              "      <td>2.69</td>\n",
              "      <td>0</td>\n",
              "    </tr>\n",
              "    <tr>\n",
              "      <th>2</th>\n",
              "      <td>1.0</td>\n",
              "      <td>-1.358354</td>\n",
              "      <td>-1.340163</td>\n",
              "      <td>1.773209</td>\n",
              "      <td>0.379780</td>\n",
              "      <td>-0.503198</td>\n",
              "      <td>1.800499</td>\n",
              "      <td>0.791461</td>\n",
              "      <td>0.247676</td>\n",
              "      <td>-1.514654</td>\n",
              "      <td>0.207643</td>\n",
              "      <td>0.624501</td>\n",
              "      <td>0.066084</td>\n",
              "      <td>0.717293</td>\n",
              "      <td>-0.165946</td>\n",
              "      <td>2.345865</td>\n",
              "      <td>-2.890083</td>\n",
              "      <td>1.109969</td>\n",
              "      <td>-0.121359</td>\n",
              "      <td>-2.261857</td>\n",
              "      <td>0.524980</td>\n",
              "      <td>0.247998</td>\n",
              "      <td>0.771679</td>\n",
              "      <td>0.909412</td>\n",
              "      <td>-0.689281</td>\n",
              "      <td>-0.327642</td>\n",
              "      <td>-0.139097</td>\n",
              "      <td>-0.055353</td>\n",
              "      <td>-0.059752</td>\n",
              "      <td>378.66</td>\n",
              "      <td>0</td>\n",
              "    </tr>\n",
              "    <tr>\n",
              "      <th>3</th>\n",
              "      <td>1.0</td>\n",
              "      <td>-0.966272</td>\n",
              "      <td>-0.185226</td>\n",
              "      <td>1.792993</td>\n",
              "      <td>-0.863291</td>\n",
              "      <td>-0.010309</td>\n",
              "      <td>1.247203</td>\n",
              "      <td>0.237609</td>\n",
              "      <td>0.377436</td>\n",
              "      <td>-1.387024</td>\n",
              "      <td>-0.054952</td>\n",
              "      <td>-0.226487</td>\n",
              "      <td>0.178228</td>\n",
              "      <td>0.507757</td>\n",
              "      <td>-0.287924</td>\n",
              "      <td>-0.631418</td>\n",
              "      <td>-1.059647</td>\n",
              "      <td>-0.684093</td>\n",
              "      <td>1.965775</td>\n",
              "      <td>-1.232622</td>\n",
              "      <td>-0.208038</td>\n",
              "      <td>-0.108300</td>\n",
              "      <td>0.005274</td>\n",
              "      <td>-0.190321</td>\n",
              "      <td>-1.175575</td>\n",
              "      <td>0.647376</td>\n",
              "      <td>-0.221929</td>\n",
              "      <td>0.062723</td>\n",
              "      <td>0.061458</td>\n",
              "      <td>123.50</td>\n",
              "      <td>0</td>\n",
              "    </tr>\n",
              "    <tr>\n",
              "      <th>4</th>\n",
              "      <td>2.0</td>\n",
              "      <td>-1.158233</td>\n",
              "      <td>0.877737</td>\n",
              "      <td>1.548718</td>\n",
              "      <td>0.403034</td>\n",
              "      <td>-0.407193</td>\n",
              "      <td>0.095921</td>\n",
              "      <td>0.592941</td>\n",
              "      <td>-0.270533</td>\n",
              "      <td>0.817739</td>\n",
              "      <td>0.753074</td>\n",
              "      <td>-0.822843</td>\n",
              "      <td>0.538196</td>\n",
              "      <td>1.345852</td>\n",
              "      <td>-1.119670</td>\n",
              "      <td>0.175121</td>\n",
              "      <td>-0.451449</td>\n",
              "      <td>-0.237033</td>\n",
              "      <td>-0.038195</td>\n",
              "      <td>0.803487</td>\n",
              "      <td>0.408542</td>\n",
              "      <td>-0.009431</td>\n",
              "      <td>0.798278</td>\n",
              "      <td>-0.137458</td>\n",
              "      <td>0.141267</td>\n",
              "      <td>-0.206010</td>\n",
              "      <td>0.502292</td>\n",
              "      <td>0.219422</td>\n",
              "      <td>0.215153</td>\n",
              "      <td>69.99</td>\n",
              "      <td>0</td>\n",
              "    </tr>\n",
              "    <tr>\n",
              "      <th>5</th>\n",
              "      <td>2.0</td>\n",
              "      <td>-0.425966</td>\n",
              "      <td>0.960523</td>\n",
              "      <td>1.141109</td>\n",
              "      <td>-0.168252</td>\n",
              "      <td>0.420987</td>\n",
              "      <td>-0.029728</td>\n",
              "      <td>0.476201</td>\n",
              "      <td>0.260314</td>\n",
              "      <td>-0.568671</td>\n",
              "      <td>-0.371407</td>\n",
              "      <td>1.341262</td>\n",
              "      <td>0.359894</td>\n",
              "      <td>-0.358091</td>\n",
              "      <td>-0.137134</td>\n",
              "      <td>0.517617</td>\n",
              "      <td>0.401726</td>\n",
              "      <td>-0.058133</td>\n",
              "      <td>0.068653</td>\n",
              "      <td>-0.033194</td>\n",
              "      <td>0.084968</td>\n",
              "      <td>-0.208254</td>\n",
              "      <td>-0.559825</td>\n",
              "      <td>-0.026398</td>\n",
              "      <td>-0.371427</td>\n",
              "      <td>-0.232794</td>\n",
              "      <td>0.105915</td>\n",
              "      <td>0.253844</td>\n",
              "      <td>0.081080</td>\n",
              "      <td>3.67</td>\n",
              "      <td>0</td>\n",
              "    </tr>\n",
              "    <tr>\n",
              "      <th>6</th>\n",
              "      <td>4.0</td>\n",
              "      <td>1.229658</td>\n",
              "      <td>0.141004</td>\n",
              "      <td>0.045371</td>\n",
              "      <td>1.202613</td>\n",
              "      <td>0.191881</td>\n",
              "      <td>0.272708</td>\n",
              "      <td>-0.005159</td>\n",
              "      <td>0.081213</td>\n",
              "      <td>0.464960</td>\n",
              "      <td>-0.099254</td>\n",
              "      <td>-1.416907</td>\n",
              "      <td>-0.153826</td>\n",
              "      <td>-0.751063</td>\n",
              "      <td>0.167372</td>\n",
              "      <td>0.050144</td>\n",
              "      <td>-0.443587</td>\n",
              "      <td>0.002821</td>\n",
              "      <td>-0.611987</td>\n",
              "      <td>-0.045575</td>\n",
              "      <td>-0.219633</td>\n",
              "      <td>-0.167716</td>\n",
              "      <td>-0.270710</td>\n",
              "      <td>-0.154104</td>\n",
              "      <td>-0.780055</td>\n",
              "      <td>0.750137</td>\n",
              "      <td>-0.257237</td>\n",
              "      <td>0.034507</td>\n",
              "      <td>0.005168</td>\n",
              "      <td>4.99</td>\n",
              "      <td>0</td>\n",
              "    </tr>\n",
              "    <tr>\n",
              "      <th>7</th>\n",
              "      <td>7.0</td>\n",
              "      <td>-0.644269</td>\n",
              "      <td>1.417964</td>\n",
              "      <td>1.074380</td>\n",
              "      <td>-0.492199</td>\n",
              "      <td>0.948934</td>\n",
              "      <td>0.428118</td>\n",
              "      <td>1.120631</td>\n",
              "      <td>-3.807864</td>\n",
              "      <td>0.615375</td>\n",
              "      <td>1.249376</td>\n",
              "      <td>-0.619468</td>\n",
              "      <td>0.291474</td>\n",
              "      <td>1.757964</td>\n",
              "      <td>-1.323865</td>\n",
              "      <td>0.686133</td>\n",
              "      <td>-0.076127</td>\n",
              "      <td>-1.222127</td>\n",
              "      <td>-0.358222</td>\n",
              "      <td>0.324505</td>\n",
              "      <td>-0.156742</td>\n",
              "      <td>1.943465</td>\n",
              "      <td>-1.015455</td>\n",
              "      <td>0.057504</td>\n",
              "      <td>-0.649709</td>\n",
              "      <td>-0.415267</td>\n",
              "      <td>-0.051634</td>\n",
              "      <td>-1.206921</td>\n",
              "      <td>-1.085339</td>\n",
              "      <td>40.80</td>\n",
              "      <td>0</td>\n",
              "    </tr>\n",
              "    <tr>\n",
              "      <th>8</th>\n",
              "      <td>7.0</td>\n",
              "      <td>-0.894286</td>\n",
              "      <td>0.286157</td>\n",
              "      <td>-0.113192</td>\n",
              "      <td>-0.271526</td>\n",
              "      <td>2.669599</td>\n",
              "      <td>3.721818</td>\n",
              "      <td>0.370145</td>\n",
              "      <td>0.851084</td>\n",
              "      <td>-0.392048</td>\n",
              "      <td>-0.410430</td>\n",
              "      <td>-0.705117</td>\n",
              "      <td>-0.110452</td>\n",
              "      <td>-0.286254</td>\n",
              "      <td>0.074355</td>\n",
              "      <td>-0.328783</td>\n",
              "      <td>-0.210077</td>\n",
              "      <td>-0.499768</td>\n",
              "      <td>0.118765</td>\n",
              "      <td>0.570328</td>\n",
              "      <td>0.052736</td>\n",
              "      <td>-0.073425</td>\n",
              "      <td>-0.268092</td>\n",
              "      <td>-0.204233</td>\n",
              "      <td>1.011592</td>\n",
              "      <td>0.373205</td>\n",
              "      <td>-0.384157</td>\n",
              "      <td>0.011747</td>\n",
              "      <td>0.142404</td>\n",
              "      <td>93.20</td>\n",
              "      <td>0</td>\n",
              "    </tr>\n",
              "    <tr>\n",
              "      <th>9</th>\n",
              "      <td>9.0</td>\n",
              "      <td>-0.338262</td>\n",
              "      <td>1.119593</td>\n",
              "      <td>1.044367</td>\n",
              "      <td>-0.222187</td>\n",
              "      <td>0.499361</td>\n",
              "      <td>-0.246761</td>\n",
              "      <td>0.651583</td>\n",
              "      <td>0.069539</td>\n",
              "      <td>-0.736727</td>\n",
              "      <td>-0.366846</td>\n",
              "      <td>1.017614</td>\n",
              "      <td>0.836390</td>\n",
              "      <td>1.006844</td>\n",
              "      <td>-0.443523</td>\n",
              "      <td>0.150219</td>\n",
              "      <td>0.739453</td>\n",
              "      <td>-0.540980</td>\n",
              "      <td>0.476677</td>\n",
              "      <td>0.451773</td>\n",
              "      <td>0.203711</td>\n",
              "      <td>-0.246914</td>\n",
              "      <td>-0.633753</td>\n",
              "      <td>-0.120794</td>\n",
              "      <td>-0.385050</td>\n",
              "      <td>-0.069733</td>\n",
              "      <td>0.094199</td>\n",
              "      <td>0.246219</td>\n",
              "      <td>0.083076</td>\n",
              "      <td>3.68</td>\n",
              "      <td>0</td>\n",
              "    </tr>\n",
              "    <tr>\n",
              "      <th>10</th>\n",
              "      <td>10.0</td>\n",
              "      <td>1.449044</td>\n",
              "      <td>-1.176339</td>\n",
              "      <td>0.913860</td>\n",
              "      <td>-1.375667</td>\n",
              "      <td>-1.971383</td>\n",
              "      <td>-0.629152</td>\n",
              "      <td>-1.423236</td>\n",
              "      <td>0.048456</td>\n",
              "      <td>-1.720408</td>\n",
              "      <td>1.626659</td>\n",
              "      <td>1.199644</td>\n",
              "      <td>-0.671440</td>\n",
              "      <td>-0.513947</td>\n",
              "      <td>-0.095045</td>\n",
              "      <td>0.230930</td>\n",
              "      <td>0.031967</td>\n",
              "      <td>0.253415</td>\n",
              "      <td>0.854344</td>\n",
              "      <td>-0.221365</td>\n",
              "      <td>-0.387226</td>\n",
              "      <td>-0.009302</td>\n",
              "      <td>0.313894</td>\n",
              "      <td>0.027740</td>\n",
              "      <td>0.500512</td>\n",
              "      <td>0.251367</td>\n",
              "      <td>-0.129478</td>\n",
              "      <td>0.042850</td>\n",
              "      <td>0.016253</td>\n",
              "      <td>7.80</td>\n",
              "      <td>0</td>\n",
              "    </tr>\n",
              "  </tbody>\n",
              "</table>\n",
              "</div>"
            ],
            "text/plain": [
              "    Time        V1        V2        V3  ...       V27       V28  Amount  Class\n",
              "0    0.0 -1.359807 -0.072781  2.536347  ...  0.133558 -0.021053  149.62      0\n",
              "1    0.0  1.191857  0.266151  0.166480  ... -0.008983  0.014724    2.69      0\n",
              "2    1.0 -1.358354 -1.340163  1.773209  ... -0.055353 -0.059752  378.66      0\n",
              "3    1.0 -0.966272 -0.185226  1.792993  ...  0.062723  0.061458  123.50      0\n",
              "4    2.0 -1.158233  0.877737  1.548718  ...  0.219422  0.215153   69.99      0\n",
              "5    2.0 -0.425966  0.960523  1.141109  ...  0.253844  0.081080    3.67      0\n",
              "6    4.0  1.229658  0.141004  0.045371  ...  0.034507  0.005168    4.99      0\n",
              "7    7.0 -0.644269  1.417964  1.074380  ... -1.206921 -1.085339   40.80      0\n",
              "8    7.0 -0.894286  0.286157 -0.113192  ...  0.011747  0.142404   93.20      0\n",
              "9    9.0 -0.338262  1.119593  1.044367  ...  0.246219  0.083076    3.68      0\n",
              "10  10.0  1.449044 -1.176339  0.913860  ...  0.042850  0.016253    7.80      0\n",
              "\n",
              "[11 rows x 31 columns]"
            ]
          },
          "metadata": {
            "tags": []
          },
          "execution_count": 4
        }
      ]
    },
    {
      "cell_type": "code",
      "metadata": {
        "colab": {
          "base_uri": "https://localhost:8080/"
        },
        "id": "15Wjl99xwqov",
        "outputId": "0ba9cb58-85f4-4298-9bbb-f9136e985485"
      },
      "source": [
        "#REFERENCE: [17]\n",
        "print(ccDts.shape) \n",
        "print(ccDts.info())"
      ],
      "execution_count": 5,
      "outputs": [
        {
          "output_type": "stream",
          "text": [
            "(284807, 31)\n",
            "<class 'pandas.core.frame.DataFrame'>\n",
            "RangeIndex: 284807 entries, 0 to 284806\n",
            "Data columns (total 31 columns):\n",
            " #   Column  Non-Null Count   Dtype  \n",
            "---  ------  --------------   -----  \n",
            " 0   Time    284807 non-null  float64\n",
            " 1   V1      284807 non-null  float64\n",
            " 2   V2      284807 non-null  float64\n",
            " 3   V3      284807 non-null  float64\n",
            " 4   V4      284807 non-null  float64\n",
            " 5   V5      284807 non-null  float64\n",
            " 6   V6      284807 non-null  float64\n",
            " 7   V7      284807 non-null  float64\n",
            " 8   V8      284807 non-null  float64\n",
            " 9   V9      284807 non-null  float64\n",
            " 10  V10     284807 non-null  float64\n",
            " 11  V11     284807 non-null  float64\n",
            " 12  V12     284807 non-null  float64\n",
            " 13  V13     284807 non-null  float64\n",
            " 14  V14     284807 non-null  float64\n",
            " 15  V15     284807 non-null  float64\n",
            " 16  V16     284807 non-null  float64\n",
            " 17  V17     284807 non-null  float64\n",
            " 18  V18     284807 non-null  float64\n",
            " 19  V19     284807 non-null  float64\n",
            " 20  V20     284807 non-null  float64\n",
            " 21  V21     284807 non-null  float64\n",
            " 22  V22     284807 non-null  float64\n",
            " 23  V23     284807 non-null  float64\n",
            " 24  V24     284807 non-null  float64\n",
            " 25  V25     284807 non-null  float64\n",
            " 26  V26     284807 non-null  float64\n",
            " 27  V27     284807 non-null  float64\n",
            " 28  V28     284807 non-null  float64\n",
            " 29  Amount  284807 non-null  float64\n",
            " 30  Class   284807 non-null  int64  \n",
            "dtypes: float64(30), int64(1)\n",
            "memory usage: 67.4 MB\n",
            "None\n"
          ],
          "name": "stdout"
        }
      ]
    },
    {
      "cell_type": "code",
      "metadata": {
        "colab": {
          "base_uri": "https://localhost:8080/"
        },
        "id": "nJl-W0Qt2p35",
        "outputId": "5c4f21bc-0200-4125-b2fb-21b43f27920e"
      },
      "source": [
        "#REFERENCE: [17]\n",
        "ntCcFd = ccDts[ccDts['Class'] == 0] #Not Fraud\n",
        "ccFd = ccDts[ccDts['Class'] == 1] #Fraud\n",
        "#get the percentage of fraud from data set\n",
        "findPerFd=(len(ccFd)/float(ccDts.shape[0]))*100\n",
        "#get the percentage of not fraud from data set\n",
        "findPerNFd=(len(ntCcFd)/float(ccDts.shape[0]))*100\n",
        "print('Fraud % :{}'.format(findPerFd)) \n",
        "print('Not Fraud % :{}'.format(findPerNFd)) \n",
        "#find number of fraud in dataset\n",
        "print('Num of CC Fraud: {}'.format(len(ccFd)))\n",
        "#find number of not fraud in dataset \n",
        "print('Num of Not CC Fraud: {}'.format(len(ntCcFd))) "
      ],
      "execution_count": 6,
      "outputs": [
        {
          "output_type": "stream",
          "text": [
            "Fraud % :0.1727485630620034\n",
            "Not Fraud % :99.82725143693798\n",
            "Num of CC Fraud: 492\n",
            "Num of Not CC Fraud: 284315\n"
          ],
          "name": "stdout"
        }
      ]
    },
    {
      "cell_type": "code",
      "metadata": {
        "colab": {
          "base_uri": "https://localhost:8080/",
          "height": 292
        },
        "id": "Nv1xF9aHx56R",
        "outputId": "b963d140-bfc9-473a-fb52-ec594b455dfc"
      },
      "source": [
        "#REFERENCE: [19]\n",
        "#graphical representaion of fraud and non fraud cases\n",
        "ccDts['Class'].value_counts().plot(figsize=(4,4),kind='bar',legend='True')\n",
        "pyp.title(\"Class Label Distribution\")\n",
        "pyp.xlabel(\"Categories\")\n",
        "pyp.ylabel(\"No. of instances\")\n",
        "pyp.show()"
      ],
      "execution_count": 7,
      "outputs": [
        {
          "output_type": "display_data",
          "data": {
            "image/png": "[encoded data removed]",
            "text/plain": [
              "<Figure size 288x288 with 1 Axes>"
            ]
          },
          "metadata": {
            "tags": [],
            "needs_background": "light"
          }
        }
      ]
    },
    {
      "cell_type": "code",
      "metadata": {
        "colab": {
          "base_uri": "https://localhost:8080/"
        },
        "id": "i1eLrKNM2gSw",
        "outputId": "ad56a613-ca8f-4f05-8f94-70b3367c895c"
      },
      "source": [
        "#REFERENCE: [17]\n",
        "#The data will be into A and B, thus the fraud class  \n",
        "A = ccDts.drop(['Class'], axis = 1) \n",
        "B = ccDts[\"Class\"] \n",
        "print(A.shape) \n",
        "print(B.shape) \n",
        "#Data split into training and testing \n",
        "aTrain, aTest, bTrain, bTest = tts( A,B,test_size = 0.2) "
      ],
      "execution_count": 8,
      "outputs": [
        {
          "output_type": "stream",
          "text": [
            "(284807, 30)\n",
            "(284807,)\n"
          ],
          "name": "stdout"
        }
      ]
    },
    {
      "cell_type": "code",
      "metadata": {
        "id": "qJ07q3Df_xqr",
        "colab": {
          "base_uri": "https://localhost:8080/"
        },
        "outputId": "11a6a554-0630-4c48-d8ce-ad05a8e2399b"
      },
      "source": [
        "#REFERENCE: [17]\n",
        "lReg = logReg() #build object\n",
        "#get training data and labels\n",
        "lReg = lReg.fit(aTrain, bTrain)"
      ],
      "execution_count": 9,
      "outputs": [
        {
          "output_type": "stream",
          "text": [
            "/usr/local/lib/python3.7/dist-packages/sklearn/linear_model/_logistic.py:940: ConvergenceWarning: lbfgs failed to converge (status=1):\n",
            "STOP: TOTAL NO. of ITERATIONS REACHED LIMIT.\n",
            "\n",
            "Increase the number of iterations (max_iter) or scale the data as shown in:\n",
            "    https://scikit-learn.org/stable/modules/preprocessing.html\n",
            "Please also refer to the documentation for alternative solver options:\n",
            "    https://scikit-learn.org/stable/modules/linear_model.html#logistic-regression\n",
            "  extra_warning_msg=_LOGISTIC_SOLVER_CONVERGENCE_MSG)\n"
          ],
          "name": "stderr"
        }
      ]
    },
    {
      "cell_type": "code",
      "metadata": {
        "colab": {
          "base_uri": "https://localhost:8080/"
        },
        "id": "IzcLaintBKPP",
        "outputId": "68ae3b38-6c98-473c-ed0c-94f5c6500d15"
      },
      "source": [
        "#REFERENCE: [17]\n",
        "#get testing values\n",
        "lrPred=lReg.predict(aTest)\n",
        "#find accuracy predicted test values\n",
        "lrAcc = accuracy_score(bTest,lrPred)\n",
        "print('------ Logistic Regression ------ ')\n",
        "print('Accuracy (Test): ',(lrAcc))\n",
        "#find precision predicted test values\n",
        "lrPrec = precision_score(bTest,lrPred)\n",
        "print('Precision (Test): ',(lrPrec))\n",
        "#find recall predicted test values\n",
        "lrRS = recall_score(bTest,lrPred)\n",
        "print('Recall (Test): ',(lrRS))\n",
        "#find f1-score predicted test values\n",
        "lrFS = f1_score(bTest,lrPred)\n",
        "print('F1 Score (Test): ',(lrFS))"
      ],
      "execution_count": 10,
      "outputs": [
        {
          "output_type": "stream",
          "text": [
            "------ Logistic Regression ------ \n",
            "Accuracy (Test):  0.9987886661282961\n",
            "Precision (Test):  0.6956521739130435\n",
            "Recall (Test):  0.6095238095238096\n",
            "F1 Score (Test):  0.6497461928934011\n"
          ],
          "name": "stdout"
        }
      ]
    },
    {
      "cell_type": "code",
      "metadata": {
        "colab": {
          "base_uri": "https://localhost:8080/",
          "height": 350
        },
        "id": "vuD-LCQfC9cw",
        "outputId": "6d994215-37c3-4db0-d49c-3af1e7607be5"
      },
      "source": [
        "#Logistic Regression Confused Matrix\n",
        "#REFERENCE: [17]\n",
        "lblNames = ['Not Fraud', 'Fraud'] \n",
        "cM = confusion_matrix(bTest, lrPred) \n",
        "pyp.figure(figsize =(5, 5)) \n",
        "sbn.heatmap(cM, xticklabels = lblNames,  \n",
        "            yticklabels = lblNames, annot = True, fmt =\"d\"); \n",
        "pyp.title(\"Confusion matrix\") \n",
        "pyp.ylabel('Original Class') \n",
        "pyp.xlabel('Predicted Class') \n",
        "pyp.show() "
      ],
      "execution_count": 11,
      "outputs": [
        {
          "output_type": "display_data",
          "data": {
            "image/png": "[encoded data removed]",
            "text/plain": [
              "<Figure size 360x360 with 2 Axes>"
            ]
          },
          "metadata": {
            "tags": [],
            "needs_background": "light"
          }
        }
      ]
    },
    {
      "cell_type": "code",
      "metadata": {
        "id": "dM_d4C7gRViX"
      },
      "source": [
        "#REFERENCE: [17]\n",
        "#Desicion Tree\n",
        "#object model\n",
        "dTreeC = deTrC()\n",
        "dTreeC = dTreeC.fit(aTrain, bTrain)"
      ],
      "execution_count": 12,
      "outputs": []
    },
    {
      "cell_type": "code",
      "metadata": {
        "colab": {
          "base_uri": "https://localhost:8080/"
        },
        "id": "qxQQt9t5SG4N",
        "outputId": "e3e05cd4-00d4-44db-8e9e-608977effc16"
      },
      "source": [
        "#REFERENCE: [17]\n",
        "#get testing values\n",
        "dTreeCPred=dTreeC.predict(aTest)\n",
        "#find accuracy predicted test values\n",
        "dTCAcc = accuracy_score(bTest,dTreeCPred)\n",
        "print('------ Decision Tree ------ ')\n",
        "print('Accuracy (Test): ',(dTCAcc))\n",
        "#find precision predicted test values\n",
        "dTCPrec = precision_score(bTest,dTreeCPred)\n",
        "print('Precision (Test): ',(dTCPrec))\n",
        "#find recall predicted test values\n",
        "dTCRS = recall_score(bTest,dTreeCPred)\n",
        "print('Recall (Test): ',(dTCRS))\n",
        "#find f1-score predicted test values\n",
        "dTCFS = f1_score(bTest,dTreeCPred)\n",
        "print('F1 Score (Test): ',(dTCFS))"
      ],
      "execution_count": 13,
      "outputs": [
        {
          "output_type": "stream",
          "text": [
            "------ Decision Tree ------ \n",
            "Accuracy (Test):  0.9989817773252344\n",
            "Precision (Test):  0.7238095238095238\n",
            "Recall (Test):  0.7238095238095238\n",
            "F1 Score (Test):  0.7238095238095238\n"
          ],
          "name": "stdout"
        }
      ]
    },
    {
      "cell_type": "code",
      "metadata": {
        "colab": {
          "base_uri": "https://localhost:8080/",
          "height": 350
        },
        "id": "_4iBAKL8TM-c",
        "outputId": "22091ae9-bb5d-484d-9a2b-c2f0f1e43447"
      },
      "source": [
        "#Decision Tree Confused Matrix\n",
        "#REFERENCE: [17]\n",
        "lblNames = ['Not Fraud', 'Fraud']\n",
        "#get testing labels and predicted testing values \n",
        "dtCM = confusion_matrix(bTest, dTreeCPred) \n",
        "pyp.figure(figsize =(5, 5)) \n",
        "sbn.heatmap(dtCM, xticklabels = lblNames,  \n",
        "            yticklabels = lblNames, annot = True, fmt =\"d\"); \n",
        "pyp.title(\"Decision Tree Confusion matrix\")\n",
        "#name of y axis\n",
        "pyp.ylabel('Original Class')\n",
        "#name of x axis\n",
        "pyp.xlabel('Predicted Class')\n",
        "#show matrix\n",
        "pyp.show() "
      ],
      "execution_count": 14,
      "outputs": [
        {
          "output_type": "display_data",
          "data": {
            "image/png": "[encoded data removed]",
            "text/plain": [
              "<Figure size 360x360 with 2 Axes>"
            ]
          },
          "metadata": {
            "tags": [],
            "needs_background": "light"
          }
        }
      ]
    },
    {
      "cell_type": "code",
      "metadata": {
        "id": "_q-NLCqvYTN7"
      },
      "source": [
        "#REFERENCE: [17]\n",
        "#Random Forest\n",
        "#object model\n",
        "randFC = ranFoC()\n",
        "randFC = randFC.fit(aTrain, bTrain)"
      ],
      "execution_count": 15,
      "outputs": []
    },
    {
      "cell_type": "code",
      "metadata": {
        "colab": {
          "base_uri": "https://localhost:8080/"
        },
        "id": "YmAiZPAiYedu",
        "outputId": "19c302c3-ade1-41de-fbc4-3cc3c1a54911"
      },
      "source": [
        "#REFERENCE: [17]\n",
        "#get testing values\n",
        "randFCPred=randFC.predict(aTest)\n",
        "#find accuracy predicted test values\n",
        "rFCAcc = accuracy_score(bTest,randFCPred)\n",
        "print('------ Random Forest ------ ')\n",
        "print('Accuracy (Test): ',(rFCAcc))\n",
        "#find precision predicted test values\n",
        "rFCPrec = precision_score(bTest,randFCPred)\n",
        "print('Precision (Test): ',(rFCPrec))\n",
        "#find recall predicted test values\n",
        "rFCRS = recall_score(bTest,randFCPred)\n",
        "print('Recall (Test): ',(rFCRS))\n",
        "#find f1-score predicted test values\n",
        "rFCFS = f1_score(bTest,randFCPred)\n",
        "print('F1 Score (Test): ',(rFCFS))"
      ],
      "execution_count": 17,
      "outputs": [
        {
          "output_type": "stream",
          "text": [
            "------ Random Forest ------ \n",
            "Accuracy (Test):  0.9995786664794073\n",
            "Precision (Test):  0.9655172413793104\n",
            "Recall (Test):  0.8\n",
            "F1 Score (Test):  0.8750000000000001\n"
          ],
          "name": "stdout"
        }
      ]
    },
    {
      "cell_type": "code",
      "metadata": {
        "colab": {
          "base_uri": "https://localhost:8080/",
          "height": 350
        },
        "id": "qLsTDt_3bshV",
        "outputId": "9807c9fd-472c-40c2-f061-194cbaebdecd"
      },
      "source": [
        "#Random Forest Confused Matrix\n",
        "#REFERENCE: [17]\n",
        "lblNames = ['Not Fraud', 'Fraud']\n",
        "#get testing labels and predicted testing values \n",
        "rfCM = confusion_matrix(bTest, randFCPred) \n",
        "pyp.figure(figsize =(5, 5)) \n",
        "sbn.heatmap(rfCM, xticklabels = lblNames,  \n",
        "            yticklabels = lblNames, annot = True, fmt =\"d\"); \n",
        "pyp.title(\"Random Forest Confusion matrix\")\n",
        "#name of y axis\n",
        "pyp.ylabel('Original Class')\n",
        "#name of x axis\n",
        "pyp.xlabel('Predicted Class')\n",
        "#show matrix\n",
        "pyp.show() "
      ],
      "execution_count": 18,
      "outputs": [
        {
          "output_type": "display_data",
          "data": {
            "image/png": "[encoded data removed]",
            "text/plain": [
              "<Figure size 360x360 with 2 Axes>"
            ]
          },
          "metadata": {
            "tags": [],
            "needs_background": "light"
          }
        }
      ]
    },
    {
      "cell_type": "code",
      "metadata": {
        "id": "e0vzDH8hxkKz"
      },
      "source": [
        "#REFERENCE: [17]\n",
        "#Undersampling\n",
        "ccNFraudI = list(ntCcFd.index)\n",
        "ccFraudI= list(ccFd.index)\n",
        "#Randomly selecting datapoints from the majority class\n",
        "ranccNFraudID = random.sample(ccNFraudI, len(ccFraudI))\n",
        "#Extracting the specified rows and creating the undersampled dataset\n",
        "underSampleI=ccFraudI+ranccNFraudID\n",
        "underSampleD = ccDts.iloc[underSampleI, :]\n",
        "#Splitting the undersampled dataset into A and B\n",
        "aUS = underSampleD.drop(['Class'], axis = 1) \n",
        "bUS = underSampleD[\"Class\"] "
      ],
      "execution_count": 19,
      "outputs": []
    },
    {
      "cell_type": "code",
      "metadata": {
        "id": "OvJZqUgpf2vt"
      },
      "source": [
        "#REFERENCE: [17]\n",
        "auTrain, auTest, buTrain, buTest = tts( aUS ,bUS,test_size = 0.2) "
      ],
      "execution_count": 20,
      "outputs": []
    },
    {
      "cell_type": "code",
      "metadata": {
        "id": "GWLm687YgHl4",
        "colab": {
          "base_uri": "https://localhost:8080/"
        },
        "outputId": "7dba2b30-abf3-4fa2-bd9e-5429a68990d1"
      },
      "source": [
        "#REFERENCE: [17]\n",
        "#Logistic\n",
        "ulReg = logReg() #build object\n",
        "#get training data and labels\n",
        "ulReg.fit(auTrain, buTrain)"
      ],
      "execution_count": 21,
      "outputs": [
        {
          "output_type": "execute_result",
          "data": {
            "text/plain": [
              "LogisticRegression(C=1.0, class_weight=None, dual=False, fit_intercept=True,\n",
              "                   intercept_scaling=1, l1_ratio=None, max_iter=100,\n",
              "                   multi_class='auto', n_jobs=None, penalty='l2',\n",
              "                   random_state=None, solver='lbfgs', tol=0.0001, verbose=0,\n",
              "                   warm_start=False)"
            ]
          },
          "metadata": {
            "tags": []
          },
          "execution_count": 21
        }
      ]
    },
    {
      "cell_type": "code",
      "metadata": {
        "id": "Gl-aMPjXgrww",
        "colab": {
          "base_uri": "https://localhost:8080/"
        },
        "outputId": "94638661-eeed-462f-c8e9-27d17357ead6"
      },
      "source": [
        "#Random Forest\n",
        "urandFC = ranFoC()\n",
        "urandFC.fit(auTrain, buTrain)"
      ],
      "execution_count": 22,
      "outputs": [
        {
          "output_type": "execute_result",
          "data": {
            "text/plain": [
              "RandomForestClassifier(bootstrap=True, ccp_alpha=0.0, class_weight=None,\n",
              "                       criterion='gini', max_depth=None, max_features='auto',\n",
              "                       max_leaf_nodes=None, max_samples=None,\n",
              "                       min_impurity_decrease=0.0, min_impurity_split=None,\n",
              "                       min_samples_leaf=1, min_samples_split=2,\n",
              "                       min_weight_fraction_leaf=0.0, n_estimators=100,\n",
              "                       n_jobs=None, oob_score=False, random_state=None,\n",
              "                       verbose=0, warm_start=False)"
            ]
          },
          "metadata": {
            "tags": []
          },
          "execution_count": 22
        }
      ]
    },
    {
      "cell_type": "code",
      "metadata": {
        "id": "Okt90cQjnEy8",
        "colab": {
          "base_uri": "https://localhost:8080/"
        },
        "outputId": "9101d10a-5c1c-4469-c431-fe723133932f"
      },
      "source": [
        "#Desicion Tree\n",
        "#object model\n",
        "udTreeC = deTrC()\n",
        "udTreeC.fit(auTrain, buTrain)"
      ],
      "execution_count": 23,
      "outputs": [
        {
          "output_type": "execute_result",
          "data": {
            "text/plain": [
              "DecisionTreeClassifier(ccp_alpha=0.0, class_weight=None, criterion='gini',\n",
              "                       max_depth=None, max_features=None, max_leaf_nodes=None,\n",
              "                       min_impurity_decrease=0.0, min_impurity_split=None,\n",
              "                       min_samples_leaf=1, min_samples_split=2,\n",
              "                       min_weight_fraction_leaf=0.0, presort='deprecated',\n",
              "                       random_state=None, splitter='best')"
            ]
          },
          "metadata": {
            "tags": []
          },
          "execution_count": 23
        }
      ]
    },
    {
      "cell_type": "code",
      "metadata": {
        "id": "hPa25QwEgxBB"
      },
      "source": [
        "#REFERENCE: [17]\n",
        "#LOGISTIC REGRESSION\n",
        "ulrPred=ulReg.predict(auTest)\n",
        "#find accuracy predicted test values\n",
        "ulrAcc = accuracy_score(buTest,ulrPred)\n",
        "#find precision predicted test values\n",
        "ulrPrec = precision_score(buTest,ulrPred)\n",
        "#find recall predicted test values\n",
        "ulrRS = recall_score(buTest,ulrPred)\n",
        "#find f1-score predicted test values\n",
        "ulrFS = f1_score(buTest,ulrPred)"
      ],
      "execution_count": 24,
      "outputs": []
    },
    {
      "cell_type": "code",
      "metadata": {
        "id": "LWZopWpOnKJe"
      },
      "source": [
        "#DECISION TREE\n",
        "udTreeCPred=udTreeC.predict(auTest)\n",
        "udTCAcc = accuracy_score(buTest,udTreeCPred)\n",
        "udTCPrec = precision_score(buTest,udTreeCPred)\n",
        "udTCRS = recall_score(buTest,udTreeCPred)\n",
        "udTCFS = f1_score(buTest,udTreeCPred)"
      ],
      "execution_count": 25,
      "outputs": []
    },
    {
      "cell_type": "code",
      "metadata": {
        "id": "m66RV9eNnMwo"
      },
      "source": [
        "#RANDOM FOREST\n",
        "urandFCPred=urandFC.predict(auTest)\n",
        "urFCAcc = accuracy_score(buTest,urandFCPred)\n",
        "urFCPrec = precision_score(buTest,urandFCPred)\n",
        "urFCRS = recall_score(buTest,urandFCPred)\n",
        "urFCFS = f1_score(buTest,urandFCPred)"
      ],
      "execution_count": 26,
      "outputs": []
    },
    {
      "cell_type": "code",
      "metadata": {
        "colab": {
          "base_uri": "https://localhost:8080/"
        },
        "id": "344PFb67ij5t",
        "outputId": "9c94ed1b-6055-46a0-d8bf-967f1145cd27"
      },
      "source": [
        "#REFERENCE [19]\n",
        "#create table like to show logostic regression, decision tree and random forest undersampling results\n",
        "#easier to view the results and to compare\n",
        "print('Under Sampling')\n",
        "print('\\n                            Accuracy         Precision       Recall      F1 Score')\n",
        "print('                           ----------      ------------    -------      ---------')\n",
        "\n",
        "print('Logistic Regression :       {:.04}%           {:.04}%         {:.04}%       {:.04}%'.format(ulrAcc * 100, \n",
        "                                                                                                ulrPrec * 100, \n",
        "                                                                                                ulrRS * 100,\n",
        "                                                                                                ulrFS * 100))\n",
        "print('Decision Tree:              {:.04}%           {:.04}%        {:.04}%       {:.04}%'.format(udTCAcc * 100, \n",
        "                                                                                                udTCPrec * 100, \n",
        "                                                                                                udTCRS * 100,\n",
        "                                                                                                udTCFS * 100))\n",
        "print('Random Forest:              {:.04}%           {:.04}%        {:.04}%       {:.04}%'.format(urFCAcc * 100, \n",
        "                                                                                                urFCPrec * 100, \n",
        "                                                                                                urFCRS * 100,\n",
        "                                                                                                urFCFS * 100))\n"
      ],
      "execution_count": 27,
      "outputs": [
        {
          "output_type": "stream",
          "text": [
            "Under Sampling\n",
            "\n",
            "                            Accuracy         Precision       Recall      F1 Score\n",
            "                           ----------      ------------    -------      ---------\n",
            "Logistic Regression :       93.4%           93.9%         90.59%       92.22%\n",
            "Decision Tree:              88.32%           87.8%        84.71%       86.23%\n",
            "Random Forest:              94.42%           97.44%        89.41%       93.25%\n"
          ],
          "name": "stdout"
        }
      ]
    },
    {
      "cell_type": "code",
      "metadata": {
        "colab": {
          "base_uri": "https://localhost:8080/"
        },
        "id": "ZSjw63CQlhNU",
        "outputId": "6ab627a0-e6a1-4770-a184-2b729166c074"
      },
      "source": [
        "#REFERENCE [17]\n",
        "#OverSample\n",
        "from imblearn.over_sampling import SMOTE\n",
        "aOSTrain, bOSTrain = SMOTE().fit_sample(A, B)"
      ],
      "execution_count": 28,
      "outputs": [
        {
          "output_type": "stream",
          "text": [
            "/usr/local/lib/python3.7/dist-packages/sklearn/externals/six.py:31: FutureWarning: The module is deprecated in version 0.21 and will be removed in version 0.23 since we've dropped support for Python 2.7. Please rely on the official version of six (https://pypi.org/project/six/).\n",
            "  \"(https://pypi.org/project/six/).\", FutureWarning)\n",
            "/usr/local/lib/python3.7/dist-packages/sklearn/utils/deprecation.py:144: FutureWarning: The sklearn.neighbors.base module is  deprecated in version 0.22 and will be removed in version 0.24. The corresponding classes / functions should instead be imported from sklearn.neighbors. Anything that cannot be imported from sklearn.neighbors is now part of the private API.\n",
            "  warnings.warn(message, FutureWarning)\n",
            "/usr/local/lib/python3.7/dist-packages/sklearn/utils/deprecation.py:87: FutureWarning: Function safe_indexing is deprecated; safe_indexing is deprecated in version 0.22 and will be removed in version 0.24.\n",
            "  warnings.warn(msg, category=FutureWarning)\n"
          ],
          "name": "stderr"
        }
      ]
    },
    {
      "cell_type": "code",
      "metadata": {
        "colab": {
          "base_uri": "https://localhost:8080/"
        },
        "id": "8tjqCWoPoRVL",
        "outputId": "20e2ea80-1e0a-4326-b81f-6b7b371cf9da"
      },
      "source": [
        "#show the transactions cases when data set was not altered, thus showing imbalance\n",
        "#show when oversample the data set, spilt the fraud and not fraud cases the same.\n",
        "print('Before Oversampling- Fraud Cases:     {}'.format(len(ccFd)))\n",
        "print('Before Oversampling- Not Fraud Cases: {}'.format(len(ntCcFd))) \n",
        "print('Oversampling: Fraud Cases: ',         sum(bOSTrain==1))\n",
        "print('Oversampling: Not Fraud Cases: ',     sum(bOSTrain==0))"
      ],
      "execution_count": 29,
      "outputs": [
        {
          "output_type": "stream",
          "text": [
            "Before Oversampling- Fraud Cases:     492\n",
            "Before Oversampling- Not Fraud Cases: 284315\n",
            "Oversampling: Fraud Cases:  284315\n",
            "Oversampling: Not Fraud Cases:  284315\n"
          ],
          "name": "stdout"
        }
      ]
    },
    {
      "cell_type": "code",
      "metadata": {
        "id": "B1xnpr6yo0eK"
      },
      "source": [
        "#REFERENCE: [17]\n",
        "aoTrain, aoTest, boTrain, boTest = tts( aOSTrain ,bOSTrain,test_size = 0.2) "
      ],
      "execution_count": 31,
      "outputs": []
    },
    {
      "cell_type": "code",
      "metadata": {
        "id": "YgTwxVj8sLL_",
        "colab": {
          "base_uri": "https://localhost:8080/"
        },
        "outputId": "d96a1b47-be37-425b-8d0a-0bc75e3871af"
      },
      "source": [
        "#REFERENCE: [17]\n",
        "#Logistic\n",
        "olReg = logReg() #build object\n",
        "#get training data and labels\n",
        "olReg.fit(aOSTrain, bOSTrain)"
      ],
      "execution_count": 32,
      "outputs": [
        {
          "output_type": "execute_result",
          "data": {
            "text/plain": [
              "LogisticRegression(C=1.0, class_weight=None, dual=False, fit_intercept=True,\n",
              "                   intercept_scaling=1, l1_ratio=None, max_iter=100,\n",
              "                   multi_class='auto', n_jobs=None, penalty='l2',\n",
              "                   random_state=None, solver='lbfgs', tol=0.0001, verbose=0,\n",
              "                   warm_start=False)"
            ]
          },
          "metadata": {
            "tags": []
          },
          "execution_count": 32
        }
      ]
    },
    {
      "cell_type": "code",
      "metadata": {
        "id": "xq7g5CBhsYho",
        "colab": {
          "base_uri": "https://localhost:8080/"
        },
        "outputId": "17a10fd7-cf5c-4f59-dead-9447eba6700e"
      },
      "source": [
        "#Desicion Tree\n",
        "odTreeC = deTrC()\n",
        "odTreeC.fit(aOSTrain, bOSTrain)"
      ],
      "execution_count": 33,
      "outputs": [
        {
          "output_type": "execute_result",
          "data": {
            "text/plain": [
              "DecisionTreeClassifier(ccp_alpha=0.0, class_weight=None, criterion='gini',\n",
              "                       max_depth=None, max_features=None, max_leaf_nodes=None,\n",
              "                       min_impurity_decrease=0.0, min_impurity_split=None,\n",
              "                       min_samples_leaf=1, min_samples_split=2,\n",
              "                       min_weight_fraction_leaf=0.0, presort='deprecated',\n",
              "                       random_state=None, splitter='best')"
            ]
          },
          "metadata": {
            "tags": []
          },
          "execution_count": 33
        }
      ]
    },
    {
      "cell_type": "code",
      "metadata": {
        "id": "XvfFmWk4sL2a",
        "colab": {
          "base_uri": "https://localhost:8080/"
        },
        "outputId": "dc22caf3-a5f5-4c63-cc1a-ae5943f19f5c"
      },
      "source": [
        "#Random Forest\n",
        "orandFC = ranFoC()\n",
        "orandFC.fit(aOSTrain, bOSTrain)"
      ],
      "execution_count": 34,
      "outputs": [
        {
          "output_type": "execute_result",
          "data": {
            "text/plain": [
              "RandomForestClassifier(bootstrap=True, ccp_alpha=0.0, class_weight=None,\n",
              "                       criterion='gini', max_depth=None, max_features='auto',\n",
              "                       max_leaf_nodes=None, max_samples=None,\n",
              "                       min_impurity_decrease=0.0, min_impurity_split=None,\n",
              "                       min_samples_leaf=1, min_samples_split=2,\n",
              "                       min_weight_fraction_leaf=0.0, n_estimators=100,\n",
              "                       n_jobs=None, oob_score=False, random_state=None,\n",
              "                       verbose=0, warm_start=False)"
            ]
          },
          "metadata": {
            "tags": []
          },
          "execution_count": 34
        }
      ]
    },
    {
      "cell_type": "code",
      "metadata": {
        "id": "3Xvl-Kaat0M9"
      },
      "source": [
        "#REFERENCE: [17]\n",
        "#LOGISTIC REGRESSION\n",
        "olrPred=olReg.predict(aoTest)\n",
        "#find accuracy predicted test values\n",
        "olrAcc = accuracy_score(boTest,olrPred)\n",
        "#find precision predicted test values\n",
        "olrPrec = precision_score(boTest,olrPred)\n",
        "#find recall predicted test values\n",
        "olrRS = recall_score(boTest,olrPred)\n",
        "#find f1-score predicted test values\n",
        "olrFS = f1_score(boTest,olrPred)\n",
        "#DECISION TREE find the accuracy, precision, recall and f1 score\n",
        "odTreeCPred=odTreeC.predict(aoTest)\n",
        "odTCAcc = accuracy_score(boTest,odTreeCPred)\n",
        "odTCPrec = precision_score(boTest,odTreeCPred)\n",
        "odTCRS = recall_score(boTest,odTreeCPred)\n",
        "odTCFS = f1_score(boTest,odTreeCPred)\n",
        "#RANDOM FOREST find the accuracy, precision, recall and f1 score\n",
        "orandFCPred=orandFC.predict(aoTest)\n",
        "orFCAcc = accuracy_score(boTest,orandFCPred)\n",
        "orFCPrec = precision_score(boTest,orandFCPred)\n",
        "orFCRS = recall_score(boTest,orandFCPred)\n",
        "orFCFS = f1_score(boTest,orandFCPred)"
      ],
      "execution_count": 35,
      "outputs": []
    },
    {
      "cell_type": "code",
      "metadata": {
        "colab": {
          "base_uri": "https://localhost:8080/"
        },
        "id": "WOnCikKYu1T_",
        "outputId": "f18568a9-396b-4f7d-a1dc-07d0d733411e"
      },
      "source": [
        "#REFERENCE [17]\n",
        "#create table like to show logostic regression, decision tree and random forest oversampling results\n",
        "#easier to view the results and to compare\n",
        "print('Oversampling')\n",
        "print('\\n                            Accuracy         Precision       Recall      F1 Score')\n",
        "print('                           ----------      ------------    -------      ---------')\n",
        "\n",
        "print('Logistic Regression :       {:.04}%           {:.04}%         {:.04}%       {:.04}%'.format(olrAcc * 100, \n",
        "                                                                                                olrPrec * 100, \n",
        "                                                                                                olrRS * 100,\n",
        "                                                                                                olrFS * 100))\n",
        "print('Decision Tree:              {:.04}%           {:.04}%        {:.04}%       {:.04}%'.format(odTCAcc * 100, \n",
        "                                                                                                odTCPrec * 100, \n",
        "                                                                                                odTCRS * 100,\n",
        "                                                                                                odTCFS * 100))\n",
        "print('Random Forest:              {:.04}%           {:.04}%        {:.04}%       {:.04}%'.format(orFCAcc * 100, \n",
        "                                                                                                orFCPrec * 100, \n",
        "                                                                                                orFCRS * 100,\n",
        "                                                                                                orFCFS * 100))"
      ],
      "execution_count": 36,
      "outputs": [
        {
          "output_type": "stream",
          "text": [
            "Oversampling\n",
            "\n",
            "                            Accuracy         Precision       Recall      F1 Score\n",
            "                           ----------      ------------    -------      ---------\n",
            "Logistic Regression :       97.37%           98.24%         96.44%       97.33%\n",
            "Decision Tree:              100.0%           100.0%        100.0%       100.0%\n",
            "Random Forest:              100.0%           100.0%        100.0%       100.0%\n"
          ],
          "name": "stdout"
        }
      ]
    },
    {
      "cell_type": "code",
      "metadata": {
        "colab": {
          "base_uri": "https://localhost:8080/"
        },
        "id": "VpPulnK6vhb4",
        "outputId": "685210e2-1ed5-49eb-9118-7e888ee66d2b"
      },
      "source": [
        "#REFERENCE [22]\n",
        "from sklearn.preprocessing import StandardScaler\n",
        "from sklearn.pipeline import Pipeline\n",
        "from sklearn.externals import joblib\n",
        "#create pipeline to pass through the random forest oversmapled model\n",
        "pipeline = Pipeline(steps = [('s', StandardScaler()), ('m', orandFC)])\n",
        "#pass through training values and labels though the model to train\n",
        "pipeline.fit(aOSTrain, bOSTrain)\n",
        "#save model to be used in other applications\n",
        "joblib.dump(pipeline, '/content/drive/MyDrive/oversRFModel.joblib')\n"
      ],
      "execution_count": 40,
      "outputs": [
        {
          "output_type": "execute_result",
          "data": {
            "text/plain": [
              "['/content/drive/MyDrive/oversRFModel.joblib']"
            ]
          },
          "metadata": {
            "tags": []
          },
          "execution_count": 40
        }
      ]
    },
    {
      "cell_type": "code",
      "metadata": {
        "id": "m17C-bpE3KnP"
      },
      "source": [
        "#function to make prediction whether if fraud or not fraud\n",
        "def makePreditcion(records):\n",
        "  #REFERENCE [22]\n",
        "  for line in records:\n",
        "    #decide on prediction\n",
        "    cpred = pipeline.predict_proba([line])\n",
        "    #probability on either class\n",
        "    answer = cpred[0][1]\n",
        "    # if 0 then not fraud, else 1 then fraud\n",
        "    if answer ==  0:\n",
        "        print ('This transaction is Not Fraud')\n",
        "    else:\n",
        "        print ('This transaction is FRAUD')\n",
        "    #print probabilty of prediction\n",
        "    print('Prediction made=%.3f' % (answer))"
      ],
      "execution_count": 41,
      "outputs": []
    },
    {
      "cell_type": "code",
      "metadata": {
        "colab": {
          "base_uri": "https://localhost:8080/"
        },
        "id": "szReBu0ku_oL",
        "outputId": "20998afb-5b58-494a-a477-73d69a0f50d4"
      },
      "source": [
        "#REFERENCE [22]\n",
        "records = [[520,-1.5233365478263,1.95147851064158,-1.60947512229769,3.9979055875468,-0.522187864667764,-1.42654531920595,-2.53738730624579,1.39165724829804,-2.77008927719433,-2.77227214465915,3.20203320709635,-2.89990738849473,-0.595221881324605,-4.28925378244217,0.389724120274487,-1.14074717980657,-2.83005567450437,-0.0168224681808257,0.416955705037907,0.126910559061474,0.517232370861764,-0.0350493686052974,-0.465211076182388,0.320198198514526,0.0445191674731724,0.177839798284401,0.261145002567677,-0.143275874698919,0],\n",
        "\t[7519,1.23423504613468,3.0197404207034,-4.30459688479665,4.73279513041887,3.62420083055386,-1.35774566315358,1.71344498787235,-0.496358487073991,-1.28285782036322,-2.44746925511151,2.10134386504854,-4.6096283906446,1.46437762476188,-6.07933719308005,-0.339237372732577,2.58185095378146,6.73938438478335,3.04249317830411,-2.72185312222835,0.00906083639534526,-0.37906830709218,-0.704181032215427,-0.656804756348389,-1.63265295692929,1.48890144838237,0.566797273468934,-0.0100162234965625,0.146792734916988,1]]\n",
        "makePreditcion(records) #call make prediction function"
      ],
      "execution_count": 42,
      "outputs": [
        {
          "output_type": "stream",
          "text": [
            "This transaction is FRAUD\n",
            "Prediction made=1.000\n",
            "This transaction is FRAUD\n",
            "Prediction made=1.000\n"
          ],
          "name": "stdout"
        }
      ]
    },
    {
      "cell_type": "code",
      "metadata": {
        "colab": {
          "base_uri": "https://localhost:8080/"
        },
        "id": "o1GA2H9M2NYs",
        "outputId": "736daa44-983e-4e5f-a982-fdbacd078d10"
      },
      "source": [
        "#REFERENCE [22]\n",
        "records2 = [[0,-1.3598071336738,-0.0727811733098497,2.53634673796914,1.37815522427443,-0.338320769942518,0.462387777762292,0.239598554061257,0.0986979012610507,0.363786969611213,0.0907941719789316,-0.551599533260813,-0.617800855762348,-0.991389847235408,-0.311169353699879,1.46817697209427,-0.470400525259478,0.207971241929242,0.0257905801985591,0.403992960255733,0.251412098239705,-0.018306777944153,0.277837575558899,-0.110473910188767,0.0669280749146731,0.128539358273528,-0.189114843888824,0.133558376740387,-0.0210530534538215,149.62],\n",
        "\t[0,1.19185711131486,0.26615071205963,0.16648011335321,0.448154078460911,0.0600176492822243,-0.0823608088155687,-0.0788029833323113,0.0851016549148104,-0.255425128109186,-0.166974414004614,1.61272666105479,1.06523531137287,0.48909501589608,-0.143772296441519,0.635558093258208,0.463917041022171,-0.114804663102346,-0.183361270123994,-0.145783041325259,-0.0690831352230203,-0.225775248033138,-0.638671952771851,0.101288021253234,-0.339846475529127,0.167170404418143,0.125894532368176,-0.00898309914322813,0.0147241691924927,2.69]]\n",
        "makePreditcion(records2) #call make prediction function"
      ],
      "execution_count": 43,
      "outputs": [
        {
          "output_type": "stream",
          "text": [
            "This transaction is Not Fraud\n",
            "Prediction made=0.000\n",
            "This transaction is Not Fraud\n",
            "Prediction made=0.000\n"
          ],
          "name": "stdout"
        }
      ]
    }
  ]
}